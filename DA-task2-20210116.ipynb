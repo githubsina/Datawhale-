{
 "cells": [
  {
   "cell_type": "markdown",
   "metadata": {},
   "source": [
    "# 2.1 任务说明\n",
    "任务主题：论文作者统计，统计所有论文作者出现评率Top10的姓名；\n",
    "\n",
    "任务内容：论文作者的统计、使用 Pandas 读取数据并使用字符串操作；\n",
    "\n",
    "任务成果：学习 Pandas 的字符串操作；"
   ]
  },
  {
   "cell_type": "markdown",
   "metadata": {},
   "source": [
    "## 1 字符串处理\n",
    "在Python中字符串是最常用的数据类型，可以使用引号('或\")来创建字符串。Python中所有的字符都使用字符串存储，可以使用方括号来截取字符串，如下实例："
   ]
  },
  {
   "cell_type": "code",
   "execution_count": 5,
   "metadata": {},
   "outputs": [
    {
     "name": "stdout",
     "output_type": "stream",
     "text": [
      "var1[-10:]:  Datawhale!\n",
      "var2[1:5]:  Python \n"
     ]
    }
   ],
   "source": [
    "import numpy as np\n",
    "import pandas as pd\n",
    "\n",
    "var1 = 'Hello Datawhale!'\n",
    "var2 = \"Python Everwhere!\"\n",
    " \n",
    "print(\"var1[-10:]: \", var1[-10:])\n",
    "print(\"var2[1:5]: \", var2[0:7])\n"
   ]
  },
  {
   "cell_type": "code",
   "execution_count": 13,
   "metadata": {},
   "outputs": [
    {
     "name": "stdout",
     "output_type": "stream",
     "text": [
      "capitalize: Python everwhere!\n",
      "Title style: Python Everwhere!\n",
      "isalpha : False\n",
      "upper style: PYTHON EVERWHERE!\n"
     ]
    }
   ],
   "source": [
    "# 一些转换字符转换，大小写，单词首大写\n",
    "print('capitalize:',var2.capitalize())\n",
    "print('Title style:',var2.title())\n",
    "print('isalpha :',var2.isalpha())   #如果 string 至少有一个字符并且所有字符都是字母则返回 True,否则返回 False\n",
    "print('upper style:',var2.upper())  #全部转换为大写字母"
   ]
  },
  {
   "cell_type": "code",
   "execution_count": 9,
   "metadata": {
    "collapsed": true
   },
   "outputs": [],
   "source": [
    "# 导入所需的package\n",
    "import seaborn as sns #用于画图\n",
    "from bs4 import BeautifulSoup #用于爬取arxiv的数据\n",
    "import re #用于正则表达式，匹配字符串的模式\n",
    "import requests #用于网络连接，发送网络请求，使用域名获取对应信息\n",
    "import json #读取数据，我们的数据为json格式的\n",
    "import pandas as pd #数据处理，数据分析\n",
    "import matplotlib.pyplot as plt #画图工具"
   ]
  },
  {
   "cell_type": "markdown",
   "metadata": {},
   "source": [
    "## 2具体实现论文作者的统计"
   ]
  },
  {
   "cell_type": "code",
   "execution_count": 14,
   "metadata": {},
   "outputs": [
    {
     "ename": "FileNotFoundError",
     "evalue": "[Errno 2] No such file or directory: 'arxiv-metadata-oai-snapshot.json'",
     "output_type": "error",
     "traceback": [
      "\u001b[1;31m---------------------------------------------------------------------------\u001b[0m",
      "\u001b[1;31mFileNotFoundError\u001b[0m                         Traceback (most recent call last)",
      "\u001b[1;32m<ipython-input-14-99da9b0b7372>\u001b[0m in \u001b[0;36m<module>\u001b[1;34m()\u001b[0m\n\u001b[0;32m      1\u001b[0m \u001b[1;31m## 2.1 数据导入与读取\u001b[0m\u001b[1;33m\u001b[0m\u001b[1;33m\u001b[0m\u001b[0m\n\u001b[0;32m      2\u001b[0m \u001b[0mdata\u001b[0m \u001b[1;33m=\u001b[0m \u001b[1;33m[\u001b[0m\u001b[1;33m]\u001b[0m\u001b[1;33m\u001b[0m\u001b[0m\n\u001b[1;32m----> 3\u001b[1;33m \u001b[1;32mwith\u001b[0m \u001b[0mopen\u001b[0m\u001b[1;33m(\u001b[0m\u001b[1;34m\"arxiv-metadata-oai-snapshot.json\"\u001b[0m\u001b[1;33m,\u001b[0m \u001b[1;34m'r'\u001b[0m\u001b[1;33m)\u001b[0m \u001b[1;32mas\u001b[0m \u001b[0mf\u001b[0m\u001b[1;33m:\u001b[0m\u001b[1;33m\u001b[0m\u001b[0m\n\u001b[0m\u001b[0;32m      4\u001b[0m     \u001b[1;32mfor\u001b[0m \u001b[0midx\u001b[0m\u001b[1;33m,\u001b[0m \u001b[0mline\u001b[0m \u001b[1;32min\u001b[0m \u001b[0menumerate\u001b[0m\u001b[1;33m(\u001b[0m\u001b[0mf\u001b[0m\u001b[1;33m)\u001b[0m\u001b[1;33m:\u001b[0m\u001b[1;33m\u001b[0m\u001b[0m\n\u001b[0;32m      5\u001b[0m         \u001b[0md\u001b[0m \u001b[1;33m=\u001b[0m \u001b[0mjson\u001b[0m\u001b[1;33m.\u001b[0m\u001b[0mloads\u001b[0m\u001b[1;33m(\u001b[0m\u001b[0mline\u001b[0m\u001b[1;33m)\u001b[0m\u001b[1;33m\u001b[0m\u001b[0m\n",
      "\u001b[1;31mFileNotFoundError\u001b[0m: [Errno 2] No such file or directory: 'arxiv-metadata-oai-snapshot.json'"
     ]
    }
   ],
   "source": [
    "## 2.1 数据导入与读取\n",
    "data = []\n",
    "with open(\"arxiv-metadata-oai-snapshot.json\", 'r') as f: \n",
    "    for idx, line in enumerate(f): \n",
    "        d = json.loads(line)\n",
    "        d = {'authors': d['authors'], 'categories': d['categories'], 'authors_parsed': d['authors_parsed']}\n",
    "        data.append(d)\n",
    "        \n",
    "data = pd.DataFrame(data)"
   ]
  },
  {
   "cell_type": "markdown",
   "metadata": {},
   "source": [
    "## 2.2数据统计\n",
    "接下来我们将完成以下统计操作：\n",
    "\n",
    "    统计所有作者姓名出现频率的Top10；  \n",
    "    统计所有作者姓（姓名最后一个单词）的出现频率的Top10；  \n",
    "    统计所有作者姓第一个字符的评率；  \n",
    "为了节约计算时间，下面选择部分类别下的论文进行处理："
   ]
  },
  {
   "cell_type": "code",
   "execution_count": 20,
   "metadata": {},
   "outputs": [
    {
     "data": {
      "text/plain": [
       "<map at 0x22f70916e48>"
      ]
     },
     "execution_count": 20,
     "metadata": {},
     "output_type": "execute_result"
    }
   ],
   "source": [
    "map( lambda x: x*x, [y for y in range(10)] ) # 比使用def 要好，且不会造成函数的空间浪费"
   ]
  },
  {
   "cell_type": "code",
   "execution_count": 21,
   "metadata": {},
   "outputs": [
    {
     "data": {
      "text/plain": [
       "<map at 0x22f70916cf8>"
      ]
     },
     "execution_count": 21,
     "metadata": {},
     "output_type": "execute_result"
    }
   ],
   "source": [
    "#----——————---- ----------------------\n",
    "def sq(x):\n",
    "    return x * x\n",
    " \n",
    "map(sq, [y for y in range(10)])"
   ]
  },
  {
   "cell_type": "code",
   "execution_count": null,
   "metadata": {
    "collapsed": true
   },
   "outputs": [],
   "source": [
    "# 选择类别为cs.CV下面的论文\n",
    "data2 = data[data['categories'].apply(lambda x: 'cs.CV' in x)]\n",
    "\n",
    "# 拼接所有作者\n",
    "all_authors = sum(data2['authors_parsed'], [])\n",
    "\n",
    "print(all_authors.head)\n"
   ]
  },
  {
   "cell_type": "markdown",
   "metadata": {},
   "source": [
    "### 所使用的的函数的补充\n",
    "###  lambda\n",
    "lambda原型为：lambda 参数:操作(参数)\n",
    "\n",
    "lambda函数也叫匿名函数，即没有具体名称的函数，它允许快速定义单行函数，可以用在任何需要函数的地方。这区别于def定义的函数。  \n",
    "lambda与def的区别：\n",
    "\n",
    "1）def创建的方法是有名称的，而lambda没有。  \n",
    "2）lambda会返回一个函数对象，但这个对象不会赋给一个标识符，而def则会把函数对象赋值给一个变量（函数名）。  \n",
    "3）lambda只是一个表达式，而def则是一个语句。  \n",
    "4）lambda表达式” : “后面，只能有一个表达式，def则可以有多个。  \n",
    "5）像if或for或print等语句不能用于lambda中，def可以。  \n",
    "6）lambda一般用来定义简单的函数，而def可以定义复杂的函数。\n",
    "\n",
    "### Apply\n",
    "Python中apply函数的格式为：apply(func,*args,**kwargs)\n",
    "\n",
    "当然，func可以是匿名函数。\n",
    "\n",
    "用途：当一个函数的参数存在于一个元组或者一个字典中时，用来间接的调用这个函数，并将元组或者字典中的参数按照顺序传递给参数\n",
    "\n",
    "解析：args是一个包含按照函数所需参数传递的位置参数的一个元组，简单来说，假如A函数的函数位置为 A(a=1,b=2),那么这个元组中就必须严格按照这个参数的位置顺序进行传递(a=3,b=4)，而不能是(b=4,a=3)这样的顺序。kwargs是一个包含关键字参数的字典，而其中args如果不传递，kwargs需要传递，则必须在args的位置留空。\n",
    "\n",
    "apply的返回值就是函数func函数的返回值。\n",
    "\n",
    "### sum函数\n",
    "sum(iterable[, start])\n",
    "\n",
    "其中\n",
    "iterable – 可迭代对象，如：列表(list)、元组(tuple)、集合(set)、字典(dictionary)。  \n",
    "start – 指定相加的参数，如果没有设置这个值，默认为0。  \n",
    "也就是说sum()最后求得的值 = 可迭代对象里面的数加起来的总和(字典:key值相加) + start的值(如果没写start的值，则默认为0)\n"
   ]
  },
  {
   "cell_type": "code",
   "execution_count": null,
   "metadata": {
    "collapsed": true
   },
   "outputs": [],
   "source": [
    "# 大佬提供的str.contains 方法\n",
    "data2 = data[data['categories'].str.contains('cs.CV')]\n",
    "# 拼接作者\n",
    "all_authors = []\n",
    "for i in data2['authors_passed']:\n",
    "    all_authors +=i"
   ]
  },
  {
   "cell_type": "code",
   "execution_count": null,
   "metadata": {
    "collapsed": true
   },
   "outputs": [],
   "source": [
    "# 拼接所有的作者\n",
    "authors_names = [' '.join(x) for x in all_authors]\n",
    "authors_names = pd.DataFrame(authors_names)\n",
    "\n",
    "# 根据作者频率绘制直方图\n",
    "plt.figure(figsize=(10, 6))\n",
    "authors_names[0].value_counts().head(10).plot(kind='barh')\n",
    "\n",
    "# 修改图配置\n",
    "names = authors_names[0].value_counts().index.values[:10]\n",
    "_ = plt.yticks(range(0, len(names)), names)\n",
    "plt.ylabel('Author')\n",
    "plt.xlabel('Count')"
   ]
  },
  {
   "cell_type": "code",
   "execution_count": null,
   "metadata": {
    "collapsed": true
   },
   "outputs": [],
   "source": [
    "# 接下来统计姓名姓，也就是authors_parsed字段中作者第一个单词：\n",
    "\n",
    "authors_lastnames = [x[0] for x in all_authors]\n",
    "authors_lastnames = pd.DataFrame(authors_lastnames)\n",
    "\n",
    "plt.figure(figsize=(10, 6))\n",
    "authors_lastnames[0].value_counts().head(10).plot(kind='barh')\n",
    "\n",
    "names = authors_lastnames[0].value_counts().index.values[:10]\n",
    "_ = plt.yticks(range(0, len(names)), names)\n",
    "plt.ylabel('Author')\n",
    "plt.xlabel('Count')"
   ]
  }
 ],
 "metadata": {
  "kernelspec": {
   "display_name": "Python 3",
   "language": "python",
   "name": "python3"
  },
  "language_info": {
   "codemirror_mode": {
    "name": "ipython",
    "version": 3
   },
   "file_extension": ".py",
   "mimetype": "text/x-python",
   "name": "python",
   "nbconvert_exporter": "python",
   "pygments_lexer": "ipython3",
   "version": "3.6.3"
  }
 },
 "nbformat": 4,
 "nbformat_minor": 2
}
