{
 "cells": [
  {
   "cell_type": "markdown",
   "metadata": {},
   "source": [
    "# 任务5：作者信息关联\n",
    "## 5.1 任务说明\n",
    "学习主题：作者关联（数据建模任务），对论文作者关系进行建模，统计最常出现的作者关系；\n",
    "学习内容：构建作者关系图，挖掘作者关系\n",
    "学习成果：论文作者知识图谱、图关系挖掘\n",
    "## 5.2 数据处理步骤\n",
    "将作者列表进行处理，并完成统计。具体步骤如下：\n",
    "\n",
    "将论文第一作者与其他作者（论文非第一作者）构建图；\n",
    "使用图算法统计图中作者与其他作者的联系；\n",
    "## 5.3 社交网络分析\n",
    "图是复杂网络研究中的一个重要概念。Graph是用点和线来刻画离散事物集合中的每对事物间以某种方式相联系的数学模型。Graph在现实世界中随处可见，如交通运输图、旅游图、流程图等。利用图可以描述现实生活中的许多事物，如用点可以表示交叉口，点之间的连线表示路径，这样就可以轻而易举的描绘出一个交通运输网络。\n",
    "\n",
    "### 5.3.1 图类型\n",
    "无向图，忽略了两节点间边的方向。\n",
    "\n",
    "指有向图，考虑了边的有向性。\n",
    "\n",
    "多重无向图，即两个结点之间的边数多于一条，又允许顶点通过同一条边和自己关联。\n",
    "\n",
    "### 5.3.2 图统计指标\n",
    "度：是指和该节点相关联的边的条数，又称关联度。对于有向图，节点的入度 是指进入该节点的边的条数；节点的出度是指从该节点出发的边的条数；\n",
    "\n",
    "迪杰斯特拉路径：.从一个源点到其它各点的最短路径，可使用迪杰斯特拉算法来求最短路径；\n",
    "\n",
    "连通图：在一个无向图 G 中，若从顶点i到顶点j有路径相连，则称i和j是连通的。如果 G 是有向图，那么连接i和j的路径中所有的边都必须同向。如果图中任意两点都是连通的，那么图被称作连通图。如果此图是有向图，则称为强连通图。\n",
    "\n",
    "对于其他图算法，可以在networkx和igraph两个库中找到。\n",
    "\n",
    "## 5.4 具体代码以及讲解"
   ]
  },
  {
   "cell_type": "code",
   "execution_count": 28,
   "metadata": {
    "scrolled": true
   },
   "outputs": [
    {
     "name": "stdout",
     "output_type": "stream",
     "text": [
      "Requirement already satisfied: networkx in /Users/caroline/opt/anaconda3/lib/python3.8/site-packages (2.4)\n",
      "Requirement already satisfied: decorator>=4.3.0 in /Users/caroline/opt/anaconda3/lib/python3.8/site-packages (from networkx) (4.4.2)\n",
      "Note: you may need to restart the kernel to use updated packages.\n"
     ]
    }
   ],
   "source": [
    "pip install networkx\n"
   ]
  },
  {
   "cell_type": "code",
   "execution_count": 29,
   "metadata": {},
   "outputs": [
    {
     "name": "stdout",
     "output_type": "stream",
     "text": [
      "\u001b[31mERROR: Could not find a version that satisfies the requirement igragh (from versions: none)\u001b[0m\n",
      "\u001b[31mERROR: No matching distribution found for igragh\u001b[0m\n",
      "Note: you may need to restart the kernel to use updated packages.\n"
     ]
    }
   ],
   "source": [
    "pip install igragh"
   ]
  },
  {
   "cell_type": "code",
   "execution_count": 37,
   "metadata": {},
   "outputs": [
    {
     "data": {
      "text/plain": [
       "'/Users/caroline/Datawhale-/Datawhale-/arxiv-metadata-oai-2019.json'"
      ]
     },
     "execution_count": 37,
     "metadata": {},
     "output_type": "execute_result"
    }
   ],
   "source": [
    "# 导入所需的package\n",
    "import seaborn as sns #用于画图\n",
    "from bs4 import BeautifulSoup #用于爬取arxiv的数据\n",
    "import re #用于正则表达式，匹配字符串的模式\n",
    "import requests #用于网络连接，发送网络请求，使用域名获取对应信息\n",
    "import json #读取数据，我们的数据为json格式的\n",
    "import pandas as pd #数据处理，数据分析\n",
    "import matplotlib.pyplot as plt #画图工具\n",
    "import os\n",
    "os.path.abspath('arxiv-metadata-oai-2019.json')"
   ]
  },
  {
   "cell_type": "code",
   "execution_count": 38,
   "metadata": {},
   "outputs": [],
   "source": [
    "# 读取数据\n",
    "data  = [] #初始化\n",
    "#使用with语句优势：1.自动关闭文件句柄；2.自动显示（处理）文件读取数据异常\n",
    "with open(\"../arxiv-metadata-oai-2019.json\", 'r') as f: \n",
    "    for idx, line in enumerate(f): \n",
    "        d = json.loads(line)\n",
    "        d = {'authors_parsed': d['authors_parsed']}\n",
    "        data.append(d)\n",
    "        \n",
    "data = pd.DataFrame(data) #将list变为dataframe格式，方便使用pandas进行分析a"
   ]
  },
  {
   "cell_type": "code",
   "execution_count": 39,
   "metadata": {},
   "outputs": [],
   "source": [
    "# 创建图\n",
    "import networkx as nx \n",
    "# 创建无向图\n",
    "G = nx.Graph()\n",
    "\n",
    "# 只用五篇论文进行构建\n",
    "for row in data.iloc[:5].itertuples():\n",
    "    authors = row[1]\n",
    "    authors = [' '.join(x[:-1]) for x in authors]\n",
    "    \n",
    "    # 第一个作者 与 其他作者链接\n",
    "    for author in authors[1:]:\n",
    "        G.add_edge(authors[0],author) #　添加节点２，３并链接２３节点"
   ]
  },
  {
   "cell_type": "code",
   "execution_count": 40,
   "metadata": {},
   "outputs": [
    {
     "data": {
      "image/png": "[encoded data removed]",
      "text/plain": [
       "<Figure size 432x288 with 1 Axes>"
      ]
     },
     "metadata": {},
     "output_type": "display_data"
    }
   ],
   "source": [
    "# 将作者关系图进行绘制：\n",
    "nx.draw(G, with_labels=True)"
   ]
  },
  {
   "cell_type": "code",
   "execution_count": 41,
   "metadata": {},
   "outputs": [
    {
     "name": "stdout",
     "output_type": "stream",
     "text": [
      "No path\n"
     ]
    }
   ],
   "source": [
    "# 得到作者之间的距离：\n",
    "try:\n",
    "    print(nx.dijkstra_path(G, 'Balázs C.', 'Ziambaras Eleni'))\n",
    "except:\n",
    "    print('No path')"
   ]
  },
  {
   "cell_type": "code",
   "execution_count": null,
   "metadata": {},
   "outputs": [],
   "source": [
    "# 计算论文关系中有多少个联通子图\n",
    "print(len(nx.communicability(G)))\n",
    "\n",
    "plt.loglog(degree_sequence, \"b-\", marker=\"o\")\n",
    "plt.title(\"Degree rank plot\")\n",
    "plt.ylabel(\"degree\")\n",
    "plt.xlabel(\"rank\")\n",
    "\n",
    "# draw graph in inset\n",
    "plt.axes([0.45, 0.45, 0.45, 0.45])\n",
    "Gcc = G.subgraph(sorted(nx.connected_components(G), key=len, reverse=True)[0])\n",
    "\n",
    "pos = nx.spring_layout(Gcc)\n",
    "plt.axis(\"off\")\n",
    "nx.draw_networkx_nodes(Gcc, pos, node_size=20)\n",
    "nx.draw_networkx_edges(Gcc, pos, alpha=0.4)\n",
    "plt.show()"
   ]
  }
 ],
 "metadata": {
  "kernelspec": {
   "display_name": "Python 3",
   "language": "python",
   "name": "python3"
  },
  "language_info": {
   "codemirror_mode": {
    "name": "ipython",
    "version": 3
   },
   "file_extension": ".py",
   "mimetype": "text/x-python",
   "name": "python",
   "nbconvert_exporter": "python",
   "pygments_lexer": "ipython3",
   "version": "3.8.3"
  }
 },
 "nbformat": 4,
 "nbformat_minor": 4
}
